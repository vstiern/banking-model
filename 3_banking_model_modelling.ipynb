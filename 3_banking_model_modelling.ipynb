{
 "cells": [
  {
   "cell_type": "markdown",
   "metadata": {},
   "source": [
    "# Option A - Data Challenge: Build a Banking Model - Modelling (3/4)\n",
    "*Analytics for Financial Services - MBD02*\n",
    "<br>\n",
    "*Vilhelm Stiernstedt - 08/06/2018*\n",
    "\n",
    "\n",
    "#### Section Description\n",
    "In this section we will conduct all necessary data preparation such as:\n",
    "1. model preparation\n",
    "2. models \n",
    "3. evaluation"
   ]
  },
  {
   "cell_type": "code",
   "execution_count": 284,
   "metadata": {},
   "outputs": [],
   "source": [
    "# import libraries\n",
    "import matplotlib.pyplot as plt\n",
    "import numpy as np\n",
    "import pandas as pd\n",
    "import seaborn as sns\n",
    "import warnings\n",
    "\n",
    "# lgb\n",
    "import lightgbm as lgb\n",
    "\n",
    "# sklearn libs\n",
    "from sklearn.cross_validation import cross_val_score\n",
    "from sklearn.feature_selection import SelectKBest\n",
    "from sklearn.metrics import roc_auc_score\n",
    "from sklearn.preprocessing import label_binarize, StandardScaler, minmax_scale\n",
    "from sklearn.model_selection import train_test_split, RandomizedSearchCV, GridSearchCV\n",
    "from sklearn.pipeline import Pipeline\n",
    "from sklearn.ensemble import RandomForestClassifier\n",
    "from sklearn.naive_bayes import MultinomialNB\n",
    "from sklearn.linear_model import LogisticRegression\n",
    "\n",
    "# keras\n",
    "from keras.layers.convolutional import Conv1D, MaxPooling1D, Conv2D, MaxPooling2D\n",
    "from keras.optimizers import SGD\n",
    "from keras.models import Sequential\n",
    "from keras.layers import Dense, Dropout, Activation, Flatten, Reshape, BatchNormalization\n",
    "from keras.wrappers.scikit_learn import KerasClassifier\n",
    "from keras import metrics\n",
    "\n",
    "# Warning settings -> suppress depreciation warnings\n",
    "warnings.filterwarnings('ignore', category=DeprecationWarning)\n",
    "\n",
    "# plot settings\n",
    "%matplotlib inline"
   ]
  },
  {
   "cell_type": "code",
   "execution_count": 285,
   "metadata": {},
   "outputs": [],
   "source": [
    "# import data\n",
    "train = pd.read_csv('train_clean.csv')\n",
    "test = pd.read_csv('test_clean.csv')\n",
    "\n",
    "# set index - customerID\n",
    "train.set_index('customerID', inplace=True)\n",
    "test.set_index('customerID', inplace=True)"
   ]
  },
  {
   "cell_type": "code",
   "execution_count": 286,
   "metadata": {},
   "outputs": [
    {
     "data": {
      "text/plain": [
       "((522938, 39), (174313, 38))"
      ]
     },
     "execution_count": 286,
     "metadata": {},
     "output_type": "execute_result"
    }
   ],
   "source": [
    "# shapes\n",
    "train.shape, test.shape"
   ]
  },
  {
   "cell_type": "code",
   "execution_count": 287,
   "metadata": {},
   "outputs": [
    {
     "data": {
      "text/plain": [
       "['age',\n",
       " 'channel',\n",
       " 'externalScore',\n",
       " 'indBadDebt',\n",
       " 'indBadLocation',\n",
       " 'indCreditBureau',\n",
       " 'indInternet',\n",
       " 'indSimin',\n",
       " 'indXlist',\n",
       " 'previous',\n",
       " 'salary',\n",
       " 'sex',\n",
       " 'status',\n",
       " 'sumExternalDefault',\n",
       " 'target',\n",
       " 'salary_ordinal',\n",
       " 'status_new',\n",
       " 'salary_ord_shrink',\n",
       " 'channel_new',\n",
       " 'age_qbin',\n",
       " 'sumExternalDefault_arbbin',\n",
       " 'sumExternalDefault_binarybin',\n",
       " 'externalScore_arbbin',\n",
       " 'customerID_class',\n",
       " 'multi_accoutns',\n",
       " 'sameID_diff_extScore',\n",
       " 'numLoans_known',\n",
       " 'numMortgages_known',\n",
       " 'status_known',\n",
       " 'channel_known',\n",
       " 'salary_known',\n",
       " 'externalScore_log',\n",
       " 'externalScore_sqrt',\n",
       " 'externalScore**2',\n",
       " 'externalScore**3',\n",
       " 'sumExternalDefault_log',\n",
       " 'sumExternalDefault_sqrt',\n",
       " 'sumExternalDefault**2',\n",
       " 'sumExternalDefault**3']"
      ]
     },
     "execution_count": 287,
     "metadata": {},
     "output_type": "execute_result"
    }
   ],
   "source": [
    "list(train)"
   ]
  },
  {
   "cell_type": "markdown",
   "metadata": {},
   "source": [
    "##  Data Preparation"
   ]
  },
  {
   "cell_type": "code",
   "execution_count": 288,
   "metadata": {},
   "outputs": [],
   "source": [
    "# extract target from training set\n",
    "target = train.target\n",
    "# drop target from training set\n",
    "train.drop('target', axis=1, inplace=True)\n",
    "# One-hot encoding: Create dummies for training data\n",
    "train_onehot = pd.get_dummies(train)\n",
    "\n",
    "# Convert to numpy arrays\n",
    "x = np.array(train_onehot)\n",
    "y = np.array(target)\n",
    "\n",
    "# split training data into training and validation data 80/20 split\n",
    "x_train, x_test, y_train, y_test = \\\n",
    "    train_test_split(x, y, test_size=0.20, random_state=42)"
   ]
  },
  {
   "cell_type": "code",
   "execution_count": 289,
   "metadata": {},
   "outputs": [
    {
     "data": {
      "text/plain": [
       "((418350, 99), (418350,))"
      ]
     },
     "execution_count": 289,
     "metadata": {},
     "output_type": "execute_result"
    }
   ],
   "source": [
    "x_train.shape, y_train.shape"
   ]
  },
  {
   "cell_type": "code",
   "execution_count": 290,
   "metadata": {},
   "outputs": [
    {
     "data": {
      "text/plain": [
       "((104588, 99), (104588,))"
      ]
     },
     "execution_count": 290,
     "metadata": {},
     "output_type": "execute_result"
    }
   ],
   "source": [
    "x_test.shape, y_test.shape"
   ]
  },
  {
   "cell_type": "markdown",
   "metadata": {},
   "source": [
    "## BaseLine Revisted\n",
    "Lets start by running the two best models used in baseline to see if null imputation and feature engineering have added information. "
   ]
  },
  {
   "cell_type": "markdown",
   "metadata": {},
   "source": [
    "### Linear SVM"
   ]
  },
  {
   "cell_type": "code",
   "execution_count": 291,
   "metadata": {},
   "outputs": [],
   "source": [
    "from sklearn.svm import LinearSVC\n",
    "\n",
    "# define model\n",
    "clf_svm = LinearSVC()\n",
    "\n",
    "# fit model\n",
    "clf_svm.fit(x_train, y_train)\n",
    "\n",
    "# predict\n",
    "clf_svm_pred = clf_svm.predict(x_test)"
   ]
  },
  {
   "cell_type": "code",
   "execution_count": 292,
   "metadata": {},
   "outputs": [
    {
     "data": {
      "text/plain": [
       "0.559100135598014"
      ]
     },
     "execution_count": 292,
     "metadata": {},
     "output_type": "execute_result"
    }
   ],
   "source": [
    "# classification report\n",
    "roc_auc_score(y_test, clf_svm_pred)"
   ]
  },
  {
   "cell_type": "code",
   "execution_count": 293,
   "metadata": {},
   "outputs": [
    {
     "data": {
      "text/html": [
       "<div>\n",
       "<style scoped>\n",
       "    .dataframe tbody tr th:only-of-type {\n",
       "        vertical-align: middle;\n",
       "    }\n",
       "\n",
       "    .dataframe tbody tr th {\n",
       "        vertical-align: top;\n",
       "    }\n",
       "\n",
       "    .dataframe thead th {\n",
       "        text-align: right;\n",
       "    }\n",
       "</style>\n",
       "<table border=\"1\" class=\"dataframe\">\n",
       "  <thead>\n",
       "    <tr style=\"text-align: right;\">\n",
       "      <th></th>\n",
       "      <th>0</th>\n",
       "      <th>1</th>\n",
       "    </tr>\n",
       "  </thead>\n",
       "  <tbody>\n",
       "    <tr>\n",
       "      <th>0</th>\n",
       "      <td>59950</td>\n",
       "      <td>9059</td>\n",
       "    </tr>\n",
       "    <tr>\n",
       "      <th>1</th>\n",
       "      <td>26703</td>\n",
       "      <td>8876</td>\n",
       "    </tr>\n",
       "  </tbody>\n",
       "</table>\n",
       "</div>"
      ],
      "text/plain": [
       "       0     1\n",
       "0  59950  9059\n",
       "1  26703  8876"
      ]
     },
     "execution_count": 293,
     "metadata": {},
     "output_type": "execute_result"
    }
   ],
   "source": [
    "# Create confusion matrix\n",
    "pd.DataFrame(confusion_matrix(y_test, clf_svm_pred))"
   ]
  },
  {
   "cell_type": "code",
   "execution_count": 294,
   "metadata": {},
   "outputs": [
    {
     "data": {
      "text/plain": [
       "RandomForestClassifier(bootstrap=True, class_weight=None, criterion='gini',\n",
       "            max_depth=None, max_features='auto', max_leaf_nodes=None,\n",
       "            min_impurity_decrease=0.0, min_impurity_split=None,\n",
       "            min_samples_leaf=1, min_samples_split=2,\n",
       "            min_weight_fraction_leaf=0.0, n_estimators=10, n_jobs=1,\n",
       "            oob_score=False, random_state=None, verbose=0,\n",
       "            warm_start=False)"
      ]
     },
     "execution_count": 294,
     "metadata": {},
     "output_type": "execute_result"
    }
   ],
   "source": [
    "# define LR classifier\n",
    "clf_lr = LogisticRegressionCV()\n",
    "clf_lr.fit(x_train, y_train)\n",
    "\n",
    "# define lgbm classifier\n",
    "clf_lgbm = lgb.LGBMClassifier()\n",
    "clf_lgbm.fit(x_train, y_train)\n",
    "\n",
    "# define rf classifier\n",
    "clf_rf = RandomForestClassifier()\n",
    "clf_rf.fit(x_train, y_train)"
   ]
  },
  {
   "cell_type": "markdown",
   "metadata": {},
   "source": [
    "### ROC/AUC Evaluation"
   ]
  },
  {
   "cell_type": "code",
   "execution_count": 295,
   "metadata": {},
   "outputs": [
    {
     "data": {
      "image/png": "[encoded data removed]",
      "text/plain": [
       "<Figure size 432x288 with 1 Axes>"
      ]
     },
     "metadata": {},
     "output_type": "display_data"
    }
   ],
   "source": [
    "# define list with trained models and labels\n",
    "models = [clf_lr, clf_lgbm, clf_rf]\n",
    "labels = ['LR', 'LGBM', 'RF']\n",
    "\n",
    "# calc roc for each model \n",
    "for m, l in zip(models, labels):\n",
    "    logit_roc_auc = roc_auc_score(y_test, m.predict(x_test))\n",
    "    fpr, tpr, thresholds = roc_curve(y_test, m.predict_proba(x_test)[:,1])\n",
    "    plt.plot(fpr, tpr, label='%s (area = %0.2f)' % (l, logit_roc_auc))\n",
    "\n",
    "# plot settings\n",
    "plt.plot([0, 1], [0, 1], 'k--')\n",
    "plt.xlim([0.0, 1.0])\n",
    "plt.ylim([0.0, 1.0])\n",
    "plt.xlabel('False Positive Rate')\n",
    "plt.ylabel('True Positive Rate')\n",
    "plt.legend(loc=0, fontsize='small')\n",
    "plt.show()"
   ]
  },
  {
   "cell_type": "markdown",
   "metadata": {},
   "source": [
    "#### Conclusion \n",
    "- LGBM: same score as before\n",
    "- LR: worse score, from 60 to 50.\n",
    "- RF: same score as before\n",
    "- SVM: 55 inline with previous score\n",
    "    \n",
    "#### Notes\n",
    "Lets try to build model pipelines that can improve the score. Lets try to use feature selection and scalers."
   ]
  },
  {
   "cell_type": "markdown",
   "metadata": {},
   "source": [
    "## Feature Importance"
   ]
  },
  {
   "cell_type": "code",
   "execution_count": 296,
   "metadata": {},
   "outputs": [
    {
     "data": {
      "text/html": [
       "<div>\n",
       "<style scoped>\n",
       "    .dataframe tbody tr th:only-of-type {\n",
       "        vertical-align: middle;\n",
       "    }\n",
       "\n",
       "    .dataframe tbody tr th {\n",
       "        vertical-align: top;\n",
       "    }\n",
       "\n",
       "    .dataframe thead th {\n",
       "        text-align: right;\n",
       "    }\n",
       "</style>\n",
       "<table border=\"1\" class=\"dataframe\">\n",
       "  <thead>\n",
       "    <tr style=\"text-align: right;\">\n",
       "      <th></th>\n",
       "      <th>lgbm_feature</th>\n",
       "      <th>lgbm_importance</th>\n",
       "    </tr>\n",
       "    <tr>\n",
       "      <th>rank</th>\n",
       "      <th></th>\n",
       "      <th></th>\n",
       "    </tr>\n",
       "  </thead>\n",
       "  <tbody>\n",
       "    <tr>\n",
       "      <th>1</th>\n",
       "      <td>channel</td>\n",
       "      <td>480</td>\n",
       "    </tr>\n",
       "    <tr>\n",
       "      <th>2</th>\n",
       "      <td>age</td>\n",
       "      <td>427</td>\n",
       "    </tr>\n",
       "    <tr>\n",
       "      <th>3</th>\n",
       "      <td>indXlist</td>\n",
       "      <td>201</td>\n",
       "    </tr>\n",
       "    <tr>\n",
       "      <th>4</th>\n",
       "      <td>indInternet</td>\n",
       "      <td>105</td>\n",
       "    </tr>\n",
       "    <tr>\n",
       "      <th>5</th>\n",
       "      <td>externalScore**2</td>\n",
       "      <td>97</td>\n",
       "    </tr>\n",
       "    <tr>\n",
       "      <th>6</th>\n",
       "      <td>numLoans_known</td>\n",
       "      <td>95</td>\n",
       "    </tr>\n",
       "    <tr>\n",
       "      <th>7</th>\n",
       "      <td>status_known</td>\n",
       "      <td>85</td>\n",
       "    </tr>\n",
       "    <tr>\n",
       "      <th>8</th>\n",
       "      <td>previous</td>\n",
       "      <td>85</td>\n",
       "    </tr>\n",
       "    <tr>\n",
       "      <th>9</th>\n",
       "      <td>externalScore**3</td>\n",
       "      <td>78</td>\n",
       "    </tr>\n",
       "    <tr>\n",
       "      <th>10</th>\n",
       "      <td>sumExternalDefault_log</td>\n",
       "      <td>76</td>\n",
       "    </tr>\n",
       "    <tr>\n",
       "      <th>11</th>\n",
       "      <td>indBadDebt</td>\n",
       "      <td>70</td>\n",
       "    </tr>\n",
       "    <tr>\n",
       "      <th>12</th>\n",
       "      <td>sex</td>\n",
       "      <td>67</td>\n",
       "    </tr>\n",
       "    <tr>\n",
       "      <th>13</th>\n",
       "      <td>externalScore_sqrt</td>\n",
       "      <td>66</td>\n",
       "    </tr>\n",
       "    <tr>\n",
       "      <th>14</th>\n",
       "      <td>NaN</td>\n",
       "      <td>59</td>\n",
       "    </tr>\n",
       "    <tr>\n",
       "      <th>15</th>\n",
       "      <td>sumExternalDefault_binarybin</td>\n",
       "      <td>58</td>\n",
       "    </tr>\n",
       "    <tr>\n",
       "      <th>16</th>\n",
       "      <td>indSimin</td>\n",
       "      <td>57</td>\n",
       "    </tr>\n",
       "    <tr>\n",
       "      <th>17</th>\n",
       "      <td>NaN</td>\n",
       "      <td>54</td>\n",
       "    </tr>\n",
       "    <tr>\n",
       "      <th>18</th>\n",
       "      <td>sumExternalDefault</td>\n",
       "      <td>53</td>\n",
       "    </tr>\n",
       "    <tr>\n",
       "      <th>19</th>\n",
       "      <td>numMortgages_known</td>\n",
       "      <td>52</td>\n",
       "    </tr>\n",
       "    <tr>\n",
       "      <th>20</th>\n",
       "      <td>sumExternalDefault_sqrt</td>\n",
       "      <td>52</td>\n",
       "    </tr>\n",
       "  </tbody>\n",
       "</table>\n",
       "</div>"
      ],
      "text/plain": [
       "                      lgbm_feature  lgbm_importance\n",
       "rank                                               \n",
       "1                          channel              480\n",
       "2                              age              427\n",
       "3                         indXlist              201\n",
       "4                      indInternet              105\n",
       "5                 externalScore**2               97\n",
       "6                   numLoans_known               95\n",
       "7                     status_known               85\n",
       "8                         previous               85\n",
       "9                 externalScore**3               78\n",
       "10          sumExternalDefault_log               76\n",
       "11                      indBadDebt               70\n",
       "12                             sex               67\n",
       "13              externalScore_sqrt               66\n",
       "14                             NaN               59\n",
       "15    sumExternalDefault_binarybin               58\n",
       "16                        indSimin               57\n",
       "17                             NaN               54\n",
       "18              sumExternalDefault               53\n",
       "19              numMortgages_known               52\n",
       "20         sumExternalDefault_sqrt               52"
      ]
     },
     "execution_count": 296,
     "metadata": {},
     "output_type": "execute_result"
    }
   ],
   "source": [
    "# Merge feature names and importance score into df\n",
    "features_names = pd.DataFrame(train.columns)\n",
    "feature_importance_score = pd.DataFrame(clf_lgbm.feature_importances_)\n",
    "lgbm_feature_importance = pd.concat([features_names, feature_importance_score], axis=1)\n",
    "\n",
    "# Assign columns names\n",
    "new_cols = ['lgbm_feature', 'lgbm_importance']\n",
    "lgbm_feature_importance.columns = new_cols\n",
    "\n",
    "# Sort values by importance and show top 20\n",
    "lgbm_feature_importance = lgbm_feature_importance.sort_values('lgbm_importance', ascending=False).head(20)\n",
    "# insert ranking score\n",
    "lgbm_feature_importance['rank'] = range(1, 21)\n",
    "# set rank as index\n",
    "lgbm_feature_importance.set_index('rank', inplace=True)\n",
    "\n",
    "lgbm_feature_importance"
   ]
  },
  {
   "cell_type": "markdown",
   "metadata": {},
   "source": [
    "## Model Pipelines"
   ]
  },
  {
   "cell_type": "markdown",
   "metadata": {},
   "source": [
    "### Pipeline 1 - LGBM w. Selector\n",
    "In this pipeline we will try to use feature selector Kbest to exclude non-significant variables."
   ]
  },
  {
   "cell_type": "code",
   "execution_count": 300,
   "metadata": {
    "scrolled": true
   },
   "outputs": [
    {
     "name": "stdout",
     "output_type": "stream",
     "text": [
      "Fitting 3 folds for each of 3 candidates, totalling 9 fits\n",
      "[CV] select__k=75, clf__num_leaves=30, clf__n_estimators=50, clf__max_depth=5, clf__learning_rate=0.05, clf__feature_fraction=0.6, clf__boosting_type=gbdt, clf__bagging_freq=12, clf__bagging_fraction=0.12 \n",
      "[CV]  select__k=75, clf__num_leaves=30, clf__n_estimators=50, clf__max_depth=5, clf__learning_rate=0.05, clf__feature_fraction=0.6, clf__boosting_type=gbdt, clf__bagging_freq=12, clf__bagging_fraction=0.12, score=0.6948093670043715, total=   5.5s\n",
      "[CV] select__k=75, clf__num_leaves=30, clf__n_estimators=50, clf__max_depth=5, clf__learning_rate=0.05, clf__feature_fraction=0.6, clf__boosting_type=gbdt, clf__bagging_freq=12, clf__bagging_fraction=0.12 \n"
     ]
    },
    {
     "name": "stderr",
     "output_type": "stream",
     "text": [
      "[Parallel(n_jobs=1)]: Done   1 out of   1 | elapsed:    7.0s remaining:    0.0s\n"
     ]
    },
    {
     "name": "stdout",
     "output_type": "stream",
     "text": [
      "[CV]  select__k=75, clf__num_leaves=30, clf__n_estimators=50, clf__max_depth=5, clf__learning_rate=0.05, clf__feature_fraction=0.6, clf__boosting_type=gbdt, clf__bagging_freq=12, clf__bagging_fraction=0.12, score=0.6940428656661618, total=   5.5s\n",
      "[CV] select__k=75, clf__num_leaves=30, clf__n_estimators=50, clf__max_depth=5, clf__learning_rate=0.05, clf__feature_fraction=0.6, clf__boosting_type=gbdt, clf__bagging_freq=12, clf__bagging_fraction=0.12 \n"
     ]
    },
    {
     "name": "stderr",
     "output_type": "stream",
     "text": [
      "[Parallel(n_jobs=1)]: Done   2 out of   2 | elapsed:   14.3s remaining:    0.0s\n"
     ]
    },
    {
     "name": "stdout",
     "output_type": "stream",
     "text": [
      "[CV]  select__k=75, clf__num_leaves=30, clf__n_estimators=50, clf__max_depth=5, clf__learning_rate=0.05, clf__feature_fraction=0.6, clf__boosting_type=gbdt, clf__bagging_freq=12, clf__bagging_fraction=0.12, score=0.6950754968103171, total=   6.1s\n",
      "[CV] select__k=25, clf__num_leaves=30, clf__n_estimators=150, clf__max_depth=6, clf__learning_rate=0.05, clf__feature_fraction=0.6, clf__boosting_type=dart, clf__bagging_freq=8, clf__bagging_fraction=0.1 \n",
      "[CV]  select__k=25, clf__num_leaves=30, clf__n_estimators=150, clf__max_depth=6, clf__learning_rate=0.05, clf__feature_fraction=0.6, clf__boosting_type=dart, clf__bagging_freq=8, clf__bagging_fraction=0.1, score=0.6860435765343001, total=  21.3s\n",
      "[CV] select__k=25, clf__num_leaves=30, clf__n_estimators=150, clf__max_depth=6, clf__learning_rate=0.05, clf__feature_fraction=0.6, clf__boosting_type=dart, clf__bagging_freq=8, clf__bagging_fraction=0.1 \n",
      "[CV]  select__k=25, clf__num_leaves=30, clf__n_estimators=150, clf__max_depth=6, clf__learning_rate=0.05, clf__feature_fraction=0.6, clf__boosting_type=dart, clf__bagging_freq=8, clf__bagging_fraction=0.1, score=0.6864702372756896, total=  23.6s\n",
      "[CV] select__k=25, clf__num_leaves=30, clf__n_estimators=150, clf__max_depth=6, clf__learning_rate=0.05, clf__feature_fraction=0.6, clf__boosting_type=dart, clf__bagging_freq=8, clf__bagging_fraction=0.1 \n",
      "[CV]  select__k=25, clf__num_leaves=30, clf__n_estimators=150, clf__max_depth=6, clf__learning_rate=0.05, clf__feature_fraction=0.6, clf__boosting_type=dart, clf__bagging_freq=8, clf__bagging_fraction=0.1, score=0.6875143420992244, total=  21.2s\n",
      "[CV] select__k=75, clf__num_leaves=15, clf__n_estimators=50, clf__max_depth=6, clf__learning_rate=0.05, clf__feature_fraction=0.8, clf__boosting_type=dart, clf__bagging_freq=8, clf__bagging_fraction=0.12 \n",
      "[CV]  select__k=75, clf__num_leaves=15, clf__n_estimators=50, clf__max_depth=6, clf__learning_rate=0.05, clf__feature_fraction=0.8, clf__boosting_type=dart, clf__bagging_freq=8, clf__bagging_fraction=0.12, score=0.6939373773764586, total=   7.5s\n",
      "[CV] select__k=75, clf__num_leaves=15, clf__n_estimators=50, clf__max_depth=6, clf__learning_rate=0.05, clf__feature_fraction=0.8, clf__boosting_type=dart, clf__bagging_freq=8, clf__bagging_fraction=0.12 \n",
      "[CV]  select__k=75, clf__num_leaves=15, clf__n_estimators=50, clf__max_depth=6, clf__learning_rate=0.05, clf__feature_fraction=0.8, clf__boosting_type=dart, clf__bagging_freq=8, clf__bagging_fraction=0.12, score=0.6920579191335078, total=   7.3s\n",
      "[CV] select__k=75, clf__num_leaves=15, clf__n_estimators=50, clf__max_depth=6, clf__learning_rate=0.05, clf__feature_fraction=0.8, clf__boosting_type=dart, clf__bagging_freq=8, clf__bagging_fraction=0.12 \n",
      "[CV]  select__k=75, clf__num_leaves=15, clf__n_estimators=50, clf__max_depth=6, clf__learning_rate=0.05, clf__feature_fraction=0.8, clf__boosting_type=dart, clf__bagging_freq=8, clf__bagging_fraction=0.12, score=0.6944846023222727, total=   6.6s\n"
     ]
    },
    {
     "name": "stderr",
     "output_type": "stream",
     "text": [
      "[Parallel(n_jobs=1)]: Done   9 out of   9 | elapsed:  2.0min finished\n"
     ]
    },
    {
     "data": {
      "text/plain": [
       "0.6946425771315147"
      ]
     },
     "execution_count": 300,
     "metadata": {},
     "output_type": "execute_result"
    }
   ],
   "source": [
    "# define pipeline\n",
    "pipeline = Pipeline([('select', SelectKBest()),\n",
    "                     ('clf', lgb.LGBMClassifier())])\n",
    "\n",
    "# define parameters\n",
    "parameters = {'select__k': (25, 50, 75, 99),\n",
    "              'clf__n_estimators': [25, 50, 100, 150],\n",
    "              'clf__learning_rate': [0.05],\n",
    "              'clf__max_depth': [3, 5, 6, 7, 8],\n",
    "              'clf__num_leaves': [15, 25, 30],\n",
    "              'clf__feature_fraction': [0.6, 0.8, 0.10],\n",
    "              'clf__bagging_fraction': [0.10, 0.12, 0.15],\n",
    "              'clf__bagging_freq': [8, 10, 12],\n",
    "              'clf__boosting_type': ('gbdt', 'dart')}\n",
    "\n",
    "# define random search grid with cv\n",
    "rscv_clf_lgbm = RandomizedSearchCV(estimator=pipeline, verbose=3,\n",
    "                              param_distributions=parameters,\n",
    "                              n_jobs=1, n_iter=3, cv=3, \n",
    "                              random_state=42)\n",
    "# fit model\n",
    "rscv_clf_lgbm.fit(x, y)\n",
    "\n",
    "# get best score from CV\n",
    "rscv_clf_lgbm.best_score_"
   ]
  },
  {
   "cell_type": "code",
   "execution_count": 304,
   "metadata": {},
   "outputs": [
    {
     "data": {
      "text/plain": [
       "{'select__k': 75,\n",
       " 'clf__num_leaves': 30,\n",
       " 'clf__n_estimators': 50,\n",
       " 'clf__max_depth': 5,\n",
       " 'clf__learning_rate': 0.05,\n",
       " 'clf__feature_fraction': 0.6,\n",
       " 'clf__boosting_type': 'gbdt',\n",
       " 'clf__bagging_freq': 12,\n",
       " 'clf__bagging_fraction': 0.12}"
      ]
     },
     "execution_count": 304,
     "metadata": {},
     "output_type": "execute_result"
    }
   ],
   "source": [
    "# get best parameters from rand serach\n",
    "rscv_clf_lgbm.best_params_"
   ]
  },
  {
   "cell_type": "code",
   "execution_count": 305,
   "metadata": {},
   "outputs": [],
   "source": [
    "# fit with best params\n",
    "lgbm_best_mod = rscv_clf_lgbm.best_estimator_.fit(x_train, y_train)\n",
    "\n",
    "# predict\n",
    "lgbm_pred = lgbm_best_mod.predict(x_test)"
   ]
  },
  {
   "cell_type": "code",
   "execution_count": 306,
   "metadata": {},
   "outputs": [
    {
     "data": {
      "text/plain": [
       "0.5963985670664878"
      ]
     },
     "execution_count": 306,
     "metadata": {},
     "output_type": "execute_result"
    }
   ],
   "source": [
    "# roc score\n",
    "roc_auc_score(y_test, lgbm_pred)"
   ]
  },
  {
   "cell_type": "code",
   "execution_count": 307,
   "metadata": {},
   "outputs": [
    {
     "data": {
      "text/html": [
       "<div>\n",
       "<style scoped>\n",
       "    .dataframe tbody tr th:only-of-type {\n",
       "        vertical-align: middle;\n",
       "    }\n",
       "\n",
       "    .dataframe tbody tr th {\n",
       "        vertical-align: top;\n",
       "    }\n",
       "\n",
       "    .dataframe thead th {\n",
       "        text-align: right;\n",
       "    }\n",
       "</style>\n",
       "<table border=\"1\" class=\"dataframe\">\n",
       "  <thead>\n",
       "    <tr style=\"text-align: right;\">\n",
       "      <th></th>\n",
       "      <th>0</th>\n",
       "      <th>1</th>\n",
       "    </tr>\n",
       "  </thead>\n",
       "  <tbody>\n",
       "    <tr>\n",
       "      <th>0</th>\n",
       "      <td>62460</td>\n",
       "      <td>6549</td>\n",
       "    </tr>\n",
       "    <tr>\n",
       "      <th>1</th>\n",
       "      <td>25343</td>\n",
       "      <td>10236</td>\n",
       "    </tr>\n",
       "  </tbody>\n",
       "</table>\n",
       "</div>"
      ],
      "text/plain": [
       "       0      1\n",
       "0  62460   6549\n",
       "1  25343  10236"
      ]
     },
     "execution_count": 307,
     "metadata": {},
     "output_type": "execute_result"
    }
   ],
   "source": [
    "# Create confusion matrix\n",
    "pd.DataFrame(confusion_matrix(y_test, lgbm_pred))"
   ]
  },
  {
   "cell_type": "markdown",
   "metadata": {},
   "source": [
    "### Pipeline 2 - LR"
   ]
  },
  {
   "cell_type": "code",
   "execution_count": 203,
   "metadata": {},
   "outputs": [
    {
     "name": "stdout",
     "output_type": "stream",
     "text": [
      "Fitting 3 folds for each of 5 candidates, totalling 15 fits\n",
      "[CV] select__k=9, clf__tol=30, clf__solver=saga ......................\n",
      "[CV]  select__k=9, clf__tol=30, clf__solver=saga, score=0.6670032240669137, total=   2.4s\n",
      "[CV] select__k=9, clf__tol=30, clf__solver=saga ......................\n"
     ]
    },
    {
     "name": "stderr",
     "output_type": "stream",
     "text": [
      "[Parallel(n_jobs=1)]: Done   1 out of   1 | elapsed:    2.6s remaining:    0.0s\n"
     ]
    },
    {
     "name": "stdout",
     "output_type": "stream",
     "text": [
      "[CV]  select__k=9, clf__tol=30, clf__solver=saga, score=0.6679976134746891, total=   2.6s\n",
      "[CV] select__k=9, clf__tol=30, clf__solver=saga ......................\n"
     ]
    },
    {
     "name": "stderr",
     "output_type": "stream",
     "text": [
      "[Parallel(n_jobs=1)]: Done   2 out of   2 | elapsed:    5.3s remaining:    0.0s\n"
     ]
    },
    {
     "name": "stdout",
     "output_type": "stream",
     "text": [
      "[CV]  select__k=9, clf__tol=30, clf__solver=saga, score=0.6697760337785121, total=   2.2s\n",
      "[CV] select__k=3, clf__tol=10, clf__solver=saga ......................\n",
      "[CV]  select__k=3, clf__tol=10, clf__solver=saga, score=0.6578358594260931, total=   2.1s\n",
      "[CV] select__k=3, clf__tol=10, clf__solver=saga ......................\n",
      "[CV]  select__k=3, clf__tol=10, clf__solver=saga, score=0.6597365643214466, total=   2.2s\n",
      "[CV] select__k=3, clf__tol=10, clf__solver=saga ......................\n",
      "[CV]  select__k=3, clf__tol=10, clf__solver=saga, score=0.6709520859149112, total=   2.1s\n",
      "[CV] select__k=21, clf__tol=20, clf__solver=saga .....................\n",
      "[CV]  select__k=21, clf__tol=20, clf__solver=saga, score=0.6774154686370573, total=   2.5s\n",
      "[CV] select__k=21, clf__tol=20, clf__solver=saga .....................\n",
      "[CV]  select__k=21, clf__tol=20, clf__solver=saga, score=0.6742966634540365, total=   2.7s\n",
      "[CV] select__k=21, clf__tol=20, clf__solver=saga .....................\n",
      "[CV]  select__k=21, clf__tol=20, clf__solver=saga, score=0.6742622424158979, total=   2.6s\n",
      "[CV] select__k=9, clf__tol=10, clf__solver=saga ......................\n",
      "[CV]  select__k=9, clf__tol=10, clf__solver=saga, score=0.6597347315763508, total=   2.7s\n",
      "[CV] select__k=9, clf__tol=10, clf__solver=saga ......................\n",
      "[CV]  select__k=9, clf__tol=10, clf__solver=saga, score=0.6597365643214466, total=   2.7s\n",
      "[CV] select__k=9, clf__tol=10, clf__solver=saga ......................\n",
      "[CV]  select__k=9, clf__tol=10, clf__solver=saga, score=0.6705505071366286, total=   2.7s\n",
      "[CV] select__k=21, clf__tol=20, clf__solver=lbfgs ....................\n",
      "[CV]  select__k=21, clf__tol=20, clf__solver=lbfgs, score=0.6804330116915451, total=   4.1s\n",
      "[CV] select__k=21, clf__tol=20, clf__solver=lbfgs ....................\n",
      "[CV]  select__k=21, clf__tol=20, clf__solver=lbfgs, score=0.6806530818302813, total=   4.0s\n",
      "[CV] select__k=21, clf__tol=20, clf__solver=lbfgs ....................\n",
      "[CV]  select__k=21, clf__tol=20, clf__solver=lbfgs, score=0.6824487126531736, total=   4.4s\n"
     ]
    },
    {
     "name": "stderr",
     "output_type": "stream",
     "text": [
      "[Parallel(n_jobs=1)]: Done  15 out of  15 | elapsed:   45.3s finished\n"
     ]
    },
    {
     "data": {
      "text/plain": [
       "0.6811782658747308"
      ]
     },
     "execution_count": 203,
     "metadata": {},
     "output_type": "execute_result"
    }
   ],
   "source": [
    "# define pipeline\n",
    "pipeline = Pipeline([('select', SelectKBest()),\n",
    "                     ('scaler', StandardScaler()),\n",
    "                     ('clf', LogisticRegression())])\n",
    "\n",
    "# define parameters\n",
    "parameters = {'select__k': (5, 10, 20, 50, 90),\n",
    "              'clf__solver': ('lbfgs', 'saga'),\n",
    "              'clf__tol': (10, 20, 30)}\n",
    "\n",
    "# define random search grid with cv\n",
    "rscv_clf_lr = RandomizedSearchCV(estimator=pipeline, verbose=3,\n",
    "                              param_distributions=parameters,\n",
    "                              n_jobs=1, n_iter=5, cv=3, \n",
    "                              random_state=42)\n",
    "# fit model\n",
    "rscv_clf_lr.fit(x, y)\n",
    "\n",
    "# get best score from CV\n",
    "rscv_clf_lr.best_score_"
   ]
  },
  {
   "cell_type": "code",
   "execution_count": 301,
   "metadata": {},
   "outputs": [],
   "source": [
    "# fit with best params\n",
    "lr_best_mod = rscv_clf_lr.best_estimator_.fit(x_train, y_train)\n",
    "\n",
    "# predict\n",
    "lr_pred = lr_best_mod.predict(x_test)"
   ]
  },
  {
   "cell_type": "code",
   "execution_count": 302,
   "metadata": {},
   "outputs": [
    {
     "data": {
      "text/plain": [
       "0.582114555246174"
      ]
     },
     "execution_count": 302,
     "metadata": {},
     "output_type": "execute_result"
    }
   ],
   "source": [
    "# roc score\n",
    "roc_auc_score(y_test, lr_pred)"
   ]
  },
  {
   "cell_type": "code",
   "execution_count": 303,
   "metadata": {},
   "outputs": [
    {
     "data": {
      "text/html": [
       "<div>\n",
       "<style scoped>\n",
       "    .dataframe tbody tr th:only-of-type {\n",
       "        vertical-align: middle;\n",
       "    }\n",
       "\n",
       "    .dataframe tbody tr th {\n",
       "        vertical-align: top;\n",
       "    }\n",
       "\n",
       "    .dataframe thead th {\n",
       "        text-align: right;\n",
       "    }\n",
       "</style>\n",
       "<table border=\"1\" class=\"dataframe\">\n",
       "  <thead>\n",
       "    <tr style=\"text-align: right;\">\n",
       "      <th></th>\n",
       "      <th>0</th>\n",
       "      <th>1</th>\n",
       "    </tr>\n",
       "  </thead>\n",
       "  <tbody>\n",
       "    <tr>\n",
       "      <th>0</th>\n",
       "      <td>61598</td>\n",
       "      <td>7411</td>\n",
       "    </tr>\n",
       "    <tr>\n",
       "      <th>1</th>\n",
       "      <td>25915</td>\n",
       "      <td>9664</td>\n",
       "    </tr>\n",
       "  </tbody>\n",
       "</table>\n",
       "</div>"
      ],
      "text/plain": [
       "       0     1\n",
       "0  61598  7411\n",
       "1  25915  9664"
      ]
     },
     "execution_count": 303,
     "metadata": {},
     "output_type": "execute_result"
    }
   ],
   "source": [
    "# Create confusion matrix\n",
    "pd.DataFrame(confusion_matrix(y_test, lr_pred))"
   ]
  },
  {
   "cell_type": "markdown",
   "metadata": {},
   "source": [
    "### Pipeline 3 - ANN"
   ]
  },
  {
   "cell_type": "code",
   "execution_count": 270,
   "metadata": {},
   "outputs": [],
   "source": [
    "# reshape data\n",
    "x_ann = minmax_scale(x)\n",
    "x_ann = x_ann.reshape(x_ann.shape[0], x_ann.shape[1], 1)"
   ]
  },
  {
   "cell_type": "code",
   "execution_count": 277,
   "metadata": {},
   "outputs": [],
   "source": [
    "# define sequential model\n",
    "def create_simple_model(optimizer='adam', init='glorot_uniform', dropout_rate=0.5):\n",
    "    model = Sequential()\n",
    "    # first layer\n",
    "    model.add(Dense(16,\n",
    "                    activation='relu',\n",
    "                    input_shape=x_ann.shape[1:3],\n",
    "                    kernel_initializer=init)\n",
    "             ) \n",
    "    model.add(Dropout(dropout_rate)) # dropout\n",
    "    model.add(Flatten())\n",
    "    # second layer\n",
    "    model.add(Dense(16,\n",
    "                    activation='relu',\n",
    "                    kernel_initializer=init)\n",
    "             )\n",
    "    model.add(Dropout(dropout_rate)) # dropout \n",
    "    # out_layer\n",
    "    model.add(Dense(1,\n",
    "                    activation='sigmoid',\n",
    "                    kernel_initializer=init)\n",
    "             )\n",
    "    # summary\n",
    "    model.summary()\n",
    "    # compiler\n",
    "    model.compile(loss='binary_crossentropy',  # loss function\n",
    "              optimizer=optimizer, # optimizer\n",
    "              metrics=['acc', metrics.binary_accuracy]) # metric \n",
    "    print('compile done')\n",
    "    return model\n",
    "\n",
    "# define function for model fitting\n",
    "def check_model(model, x , y):\n",
    "    model.fit(x, y, \n",
    "              batch_size=512,\n",
    "              epochs=3, \n",
    "              verbose=1,\n",
    "              validation_split=0.2)"
   ]
  },
  {
   "cell_type": "code",
   "execution_count": 278,
   "metadata": {},
   "outputs": [
    {
     "name": "stdout",
     "output_type": "stream",
     "text": [
      "_________________________________________________________________\n",
      "Layer (type)                 Output Shape              Param #   \n",
      "=================================================================\n",
      "dense_40 (Dense)             (None, 99, 16)            32        \n",
      "_________________________________________________________________\n",
      "dropout_26 (Dropout)         (None, 99, 16)            0         \n",
      "_________________________________________________________________\n",
      "flatten_16 (Flatten)         (None, 1584)              0         \n",
      "_________________________________________________________________\n",
      "dense_41 (Dense)             (None, 16)                25360     \n",
      "_________________________________________________________________\n",
      "dropout_27 (Dropout)         (None, 16)                0         \n",
      "_________________________________________________________________\n",
      "dense_42 (Dense)             (None, 1)                 17        \n",
      "=================================================================\n",
      "Total params: 25,409\n",
      "Trainable params: 25,409\n",
      "Non-trainable params: 0\n",
      "_________________________________________________________________\n",
      "compile done\n",
      "Train on 418350 samples, validate on 104588 samples\n",
      "Epoch 1/3\n",
      "418350/418350 [==============================] - 18s 43us/step - loss: 0.5948 - acc: 0.6820 - binary_accuracy: 0.6820 - val_loss: 0.5819 - val_acc: 0.6940 - val_binary_accuracy: 0.6940\n",
      "Epoch 2/3\n",
      "418350/418350 [==============================] - 19s 45us/step - loss: 0.5897 - acc: 0.6868 - binary_accuracy: 0.6868 - val_loss: 0.5801 - val_acc: 0.6958 - val_binary_accuracy: 0.6958\n",
      "Epoch 3/3\n",
      "418350/418350 [==============================] - 17s 42us/step - loss: 0.5891 - acc: 0.6861 - binary_accuracy: 0.6861 - val_loss: 0.5812 - val_acc: 0.6950 - val_binary_accuracy: 0.6950\n"
     ]
    }
   ],
   "source": [
    "# create model\n",
    "seq_m = KerasClassifier(build_fn=create_simple_model, verbose=0)\n",
    "\n",
    "# fit model with predifined and processed text and label\n",
    "check_model(seq_m, x_ann, y)"
   ]
  },
  {
   "cell_type": "markdown",
   "metadata": {},
   "source": [
    "### Pipeline 4 - CNN"
   ]
  },
  {
   "cell_type": "code",
   "execution_count": 237,
   "metadata": {},
   "outputs": [
    {
     "data": {
      "text/plain": [
       "(99, 1)"
      ]
     },
     "execution_count": 237,
     "metadata": {},
     "output_type": "execute_result"
    }
   ],
   "source": [
    "# reshape data\n",
    "x_cnn = minmax_scale(x)\n",
    "x_cnn = x_cnn.reshape(x_cnn.shape[0], x_cnn.shape[1], 1)"
   ]
  },
  {
   "cell_type": "code",
   "execution_count": 239,
   "metadata": {},
   "outputs": [
    {
     "name": "stdout",
     "output_type": "stream",
     "text": [
      "Epoch 1/5\n",
      "522938/522938 [==============================] - 26s 50us/step - loss: 0.5859 - acc: 0.6907\n",
      "Epoch 2/5\n",
      "522938/522938 [==============================] - 27s 51us/step - loss: 0.5845 - acc: 0.6914\n",
      "Epoch 3/5\n",
      "522938/522938 [==============================] - 28s 53us/step - loss: 0.5843 - acc: 0.6917\n",
      "Epoch 4/5\n",
      "522938/522938 [==============================] - 25s 48us/step - loss: 0.5842 - acc: 0.6916\n",
      "Epoch 5/5\n",
      "522938/522938 [==============================] - 28s 54us/step - loss: 0.5857 - acc: 0.6913\n"
     ]
    },
    {
     "data": {
      "text/plain": [
       "<keras.callbacks.History at 0x118936c50>"
      ]
     },
     "execution_count": 239,
     "metadata": {},
     "output_type": "execute_result"
    }
   ],
   "source": [
    "# define 1D CNN model\n",
    "conv = Sequential()\n",
    "conv.add(Conv1D(20, 4, input_shape = x_cnn.shape[1:3], activation = 'relu'))\n",
    "conv.add(MaxPooling1D(2))\n",
    "conv.add(Flatten())\n",
    "conv.add(Dense(1, activation = 'sigmoid'))\n",
    "sgd = SGD(lr = 0.1, momentum = 0.9, decay = 0, nesterov = False)\n",
    "conv.compile(loss = 'binary_crossentropy', optimizer = sgd, metrics = ['accuracy'])\n",
    "\n",
    "# fit model\n",
    "conv.fit(x_cnn, y, batch_size = 128, epochs = 5, verbose = 1)"
   ]
  },
  {
   "cell_type": "code",
   "execution_count": 260,
   "metadata": {},
   "outputs": [
    {
     "name": "stdout",
     "output_type": "stream",
     "text": [
      "Epoch 1/5\n",
      "522938/522938 [==============================] - 29s 56us/step - loss: 0.5835 - acc: 0.6925\n",
      "Epoch 2/5\n",
      "522938/522938 [==============================] - 27s 51us/step - loss: 0.5813 - acc: 0.6944\n",
      "Epoch 3/5\n",
      "522938/522938 [==============================] - 27s 52us/step - loss: 0.5809 - acc: 0.6945\n",
      "Epoch 4/5\n",
      "522938/522938 [==============================] - 26s 49us/step - loss: 0.5806 - acc: 0.6952\n",
      "Epoch 5/5\n",
      "522938/522938 [==============================] - 29s 55us/step - loss: 0.5805 - acc: 0.6954\n"
     ]
    },
    {
     "data": {
      "text/plain": [
       "<keras.callbacks.History at 0x1225f7b38>"
      ]
     },
     "execution_count": 260,
     "metadata": {},
     "output_type": "execute_result"
    }
   ],
   "source": [
    "# reshape data\n",
    "x_cnn2 = minmax_scale(x)\n",
    "x_cnn2 = x_cnn2.reshape(x_cnn2.shape[0], 1, x_cnn2.shape[1], 1)\n",
    "\n",
    "# define 2D CNN model \n",
    "conv = Sequential()\n",
    "conv.add(Conv2D(30, (1, 4), input_shape = x_cnn2.shape[1:4], activation = 'relu'))\n",
    "conv.add(MaxPooling2D((1, 2)))\n",
    "conv.add(Flatten())\n",
    "conv.add(Dense(1, activation = 'sigmoid'))\n",
    "sgd = SGD(lr = 0.1, momentum = 0.9, decay = 0, nesterov = False)\n",
    "conv.compile(loss = 'binary_crossentropy', optimizer = 'adam', metrics = ['accuracy'])\n",
    "\n",
    "# fit model\n",
    "conv.fit(x_cnn2, y, batch_size = 128, epochs = 5, verbose = 1)"
   ]
  },
  {
   "cell_type": "code",
   "execution_count": null,
   "metadata": {},
   "outputs": [],
   "source": []
  }
 ],
 "metadata": {
  "kernelspec": {
   "display_name": "Python 3",
   "language": "python",
   "name": "python3"
  },
  "language_info": {
   "codemirror_mode": {
    "name": "ipython",
    "version": 3
   },
   "file_extension": ".py",
   "mimetype": "text/x-python",
   "name": "python",
   "nbconvert_exporter": "python",
   "pygments_lexer": "ipython3",
   "version": "3.6.4"
  }
 },
 "nbformat": 4,
 "nbformat_minor": 2
}
