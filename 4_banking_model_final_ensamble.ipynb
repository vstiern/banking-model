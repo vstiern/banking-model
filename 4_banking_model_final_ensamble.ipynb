{
 "cells": [
  {
   "cell_type": "markdown",
   "metadata": {},
   "source": [
    "# Option A - Data Challenge: Build a Banking Model - Ensamble (4/4)\n",
    "*Analytics for Financial Services - MBD02*\n",
    "<br>\n",
    "*Vilhelm Stiernstedt - 08/06/2018*\n",
    "\n",
    "\n",
    "#### Section Description\n",
    "In this section we will conduct all necessary data preparation such as:\n",
    "1. define models\n",
    "2. ensamble\n",
    "3. prediction\n",
    "4. submssion"
   ]
  },
  {
   "cell_type": "markdown",
   "metadata": {},
   "source": [
    "## Import Libraries"
   ]
  },
  {
   "cell_type": "code",
   "execution_count": 61,
   "metadata": {},
   "outputs": [],
   "source": [
    "# general libs\n",
    "import collections\n",
    "import time\n",
    "import re\n",
    "import matplotlib.pyplot as plt\n",
    "import numpy as np\n",
    "import pandas as pd\n",
    "import seaborn as sns\n",
    "from scipy.sparse import hstack\n",
    "import warnings\n",
    "\n",
    "# import libraries\n",
    "import matplotlib.pyplot as plt\n",
    "import numpy as np\n",
    "import pandas as pd\n",
    "import seaborn as sns\n",
    "import warnings\n",
    "\n",
    "# lgb\n",
    "import lightgbm as lgb\n",
    "\n",
    "# sklearn libs\n",
    "from sklearn.cross_validation import cross_val_score\n",
    "from sklearn.feature_selection import SelectKBest\n",
    "from sklearn.metrics import roc_auc_score\n",
    "from sklearn.preprocessing import label_binarize, StandardScaler, minmax_scale\n",
    "from sklearn.model_selection import train_test_split, RandomizedSearchCV, GridSearchCV\n",
    "from sklearn.pipeline import Pipeline\n",
    "from sklearn.ensemble import RandomForestClassifier, AdaBoostClassifier\n",
    "from sklearn.naive_bayes import MultinomialNB\n",
    "from sklearn.linear_model import LogisticRegression\n",
    "from sklearn.svm import LinearSVC\n",
    "\n",
    "# mlxtend libs (ensamle / stacking)\n",
    "from mlxtend.classifier import EnsembleVoteClassifier\n",
    "from mlxtend.classifier import StackingClassifier\n",
    "\n",
    "# Warning settings -> suppress depreciation warnings\n",
    "warnings.filterwarnings('ignore', category=DeprecationWarning)\n",
    "\n",
    "# plot settings\n",
    "%matplotlib inline\n",
    "\n",
    "\n",
    "# Warning settings -> suppress depreciation warnings\n",
    "warnings.filterwarnings('ignore')"
   ]
  },
  {
   "cell_type": "markdown",
   "metadata": {},
   "source": [
    "## Import Data"
   ]
  },
  {
   "cell_type": "code",
   "execution_count": 62,
   "metadata": {},
   "outputs": [],
   "source": [
    "# import data\n",
    "train = pd.read_csv('train_clean.csv')\n",
    "test = pd.read_csv('test_clean.csv')\n",
    "\n",
    "# set index - customerID\n",
    "train.set_index('customerID', inplace=True)\n",
    "test.set_index('customerID', inplace=True)"
   ]
  },
  {
   "cell_type": "markdown",
   "metadata": {},
   "source": [
    "##  Data Preparation"
   ]
  },
  {
   "cell_type": "code",
   "execution_count": 63,
   "metadata": {},
   "outputs": [],
   "source": [
    "# extract target from training set\n",
    "target = train.target\n",
    "# drop target from training set\n",
    "train.drop('target', axis=1, inplace=True)\n",
    "# One-hot encoding: Create dummies for training data\n",
    "train_onehot = pd.get_dummies(train)\n",
    "\n",
    "# Convert to numpy arrays\n",
    "x = np.array(train_onehot)\n",
    "y = np.array(target)\n",
    "\n",
    "# One-hot encoding: Create dummies for training data\n",
    "test_onehot = pd.get_dummies(test)\n",
    "# Convert to numpy arrays\n",
    "test_fin = np.array(test_onehot)\n",
    "\n",
    "\n",
    "# split training data into training and validation data 80/20 split\n",
    "x_train, x_test, y_train, y_test = \\\n",
    "    train_test_split(x, y, test_size=0.20, random_state=42)"
   ]
  },
  {
   "cell_type": "code",
   "execution_count": 38,
   "metadata": {},
   "outputs": [
    {
     "data": {
      "text/plain": [
       "((522938, 99), (522938,))"
      ]
     },
     "execution_count": 38,
     "metadata": {},
     "output_type": "execute_result"
    }
   ],
   "source": [
    "# train dim\n",
    "x.shape , y.shape"
   ]
  },
  {
   "cell_type": "code",
   "execution_count": 39,
   "metadata": {},
   "outputs": [
    {
     "data": {
      "text/plain": [
       "(174313, 99)"
      ]
     },
     "execution_count": 39,
     "metadata": {},
     "output_type": "execute_result"
    }
   ],
   "source": [
    "test_fin.shape"
   ]
  },
  {
   "cell_type": "markdown",
   "metadata": {},
   "source": [
    "### Models "
   ]
  },
  {
   "cell_type": "code",
   "execution_count": 24,
   "metadata": {},
   "outputs": [],
   "source": [
    "# model 1 - lgbm pipeline\n",
    "lgbm_pipeline = Pipeline([('sel', SelectKBest(k=75)),\n",
    "                          ('clf', lgb.LGBMClassifier(num_leaves=25, n_estimators=100, \n",
    "                                                     max_depth=6, learning_rate=0.075,\n",
    "                                                     feature_fraction=0.8, boosting_type='dart',\n",
    "                                                     bagging_freq=10, bagging_fraction=0.12)\n",
    "                          )\n",
    "                         ]\n",
    "                        )\n",
    "# model 2 - LR pipeline\n",
    "lr_pipeline = Pipeline([('sel', SelectKBest(k=30)),\n",
    "                        ('scaler', StandardScaler()),\n",
    "                        ('clf', LogisticRegression(tol=20, solver='lbfgs'))\n",
    "                       ]\n",
    "                      )\n",
    "\n",
    "# model 3 - ANN pipeline\n",
    "ada_pipeline = Pipeline([('select', SelectKBest(k=10)),\n",
    "                         ('clf',  AdaBoostClassifier())\n",
    "                        ]\n",
    "                       )"
   ]
  },
  {
   "cell_type": "markdown",
   "metadata": {},
   "source": [
    "### Ensemble Models\n",
    "We will try both soft and hard voting and also different weights to find the best combination. We will try to use all three models but also only use two, to see if the meta classifier finds it easier to decide best model for different classes."
   ]
  },
  {
   "cell_type": "code",
   "execution_count": 16,
   "metadata": {},
   "outputs": [],
   "source": [
    "# Define Ensemble classifers\n",
    "clf1 = lgbm_pipeline # for soft: 0.33 voting right\n",
    "clf2 = lr_pipeline # for soft: 0.33 voting right \n",
    "clf3 = ada_pipeline # for soft: 0.34 voting right\n",
    "eclf = EnsembleVoteClassifier(clfs=[clf1, clf2, clf3], voting='soft', weights=[0.33,0.33,0.34])\n",
    "\n",
    "# Define name of models and stack classifier\n",
    "labels = ['LGBM', 'LR', 'ADA', 'Ensemble']\n",
    "\n",
    "# Define classifer list\n",
    "clf_list = [clf1, clf2, clf3, eclf]"
   ]
  },
  {
   "cell_type": "code",
   "execution_count": 17,
   "metadata": {},
   "outputs": [
    {
     "name": "stdout",
     "output_type": "stream",
     "text": [
      "Accuracy: 0.697 (+/- 0.001) [LGBM]\n",
      "Accuracy: 0.684 (+/- 0.001) [LR]\n",
      "Accuracy: 0.669 (+/- 0.001) [ADA]\n",
      "Accuracy: 0.693 (+/- 0.001) [Ensemble]\n"
     ]
    }
   ],
   "source": [
    "# Assing empty lists for cross validation mean scores and std\n",
    "clf_cv_mean = []\n",
    "clf_cv_std = []\n",
    "\n",
    "# Cross validate each model and plot average score \n",
    "# use of orginal x and y -> no test/validation spit as no prediction will be made\n",
    "for clf, label in zip(clf_list, labels):\n",
    "    scores = cross_val_score(clf, x, y, cv=3)\n",
    "    print(\"Accuracy: %0.3f (+/- %0.3f) [%s]\"\n",
    "          % (scores.mean(), scores.std(), label))\n",
    "    # add mean and sd to lists\n",
    "    clf_cv_mean.append(scores.mean())\n",
    "    clf_cv_std.append(scores.std())"
   ]
  },
  {
   "cell_type": "code",
   "execution_count": 19,
   "metadata": {},
   "outputs": [
    {
     "data": {
      "image/png": "[encoded data removed]",
      "text/plain": [
       "<Figure size 576x432 with 1 Axes>"
      ]
     },
     "metadata": {},
     "output_type": "display_data"
    }
   ],
   "source": [
    "# Plot the accurancy of the different models\n",
    "plt.figure(figsize=(8, 6))\n",
    "(_, caps, _) = plt.errorbar(range(4), clf_cv_mean, yerr=clf_cv_std, c='blue', fmt='-o', capsize=5)\n",
    "for cap in caps:\n",
    "    cap.set_markeredgewidth(1)\n",
    "\n",
    "plt.xticks(range(4), ['LGBM', 'LR', 'ADA', 'Ensemble'])\n",
    "plt.ylabel('Accuracy'); plt.xlabel('Classifier'); plt.title('Stacking Ensemble');\n",
    "plt.show()"
   ]
  },
  {
   "cell_type": "markdown",
   "metadata": {},
   "source": [
    "### ROC/AUC Evaluation"
   ]
  },
  {
   "cell_type": "code",
   "execution_count": 31,
   "metadata": {},
   "outputs": [
    {
     "data": {
      "image/png": "[encoded data removed]",
      "text/plain": [
       "<Figure size 432x288 with 1 Axes>"
      ]
     },
     "metadata": {},
     "output_type": "display_data"
    }
   ],
   "source": [
    "from sklearn.metrics import confusion_matrix, roc_curve, auc\n",
    "\n",
    "# fit ensamble model\n",
    "eclf.fit(x_train, y_train)\n",
    "\n",
    "# define list with trained models and labels\n",
    "models = [lgbm_pipeline, eclf]\n",
    "labels = ['LGBM', 'ENSAMBLE']\n",
    "\n",
    "# calc roc for each model \n",
    "for m, l in zip(models, labels):\n",
    "    logit_roc_auc = roc_auc_score(y_test, m.predict_proba(x_test))\n",
    "    fpr, tpr, thresholds = roc_curve(y_test, m.predict_proba(x_test)[:,1])\n",
    "    plt.plot(fpr, tpr, label='%s (area = %0.2f)' % (l, logit_roc_auc))\n",
    "\n",
    "# plot settings\n",
    "plt.plot([0, 1], [0, 1], 'k--')\n",
    "plt.xlim([0.0, 1.0])\n",
    "plt.ylim([0.0, 1.0])\n",
    "plt.xlabel('False Positive Rate')\n",
    "plt.ylabel('True Positive Rate')\n",
    "plt.legend(loc=0, fontsize='small')\n",
    "plt.show()"
   ]
  },
  {
   "cell_type": "markdown",
   "metadata": {},
   "source": [
    "### Final Model\n",
    "Unfortuantely we did not mange to combine our three induvidually good models to create better model. Thus we will use the LGBM model which scores best so far."
   ]
  },
  {
   "cell_type": "code",
   "execution_count": 40,
   "metadata": {},
   "outputs": [
    {
     "data": {
      "text/plain": [
       "Pipeline(memory=None,\n",
       "     steps=[('sel', SelectKBest(k=75, score_func=<function f_classif at 0x10c5fc9d8>)), ('clf', LGBMClassifier(bagging_fraction=0.12, bagging_freq=10, boosting_type='dart',\n",
       "        class_weight=None, colsample_bytree=1.0, feature_fraction=0.8,\n",
       "        learning_rate=0.075, max_depth=6, min_child_samples=2...0, reg_lambda=0.0, silent=True, subsample=1.0,\n",
       "        subsample_for_bin=200000, subsample_freq=1))])"
      ]
     },
     "execution_count": 40,
     "metadata": {},
     "output_type": "execute_result"
    }
   ],
   "source": [
    "# Fit model\n",
    "lgbm_pipeline.fit(x, y)"
   ]
  },
  {
   "cell_type": "code",
   "execution_count": 59,
   "metadata": {},
   "outputs": [],
   "source": [
    "# Make predictions for test data, input into new df\n",
    "final_predictions = pd.DataFrame(lgbm_pipeline.predict_proba(test_fin))"
   ]
  },
  {
   "cell_type": "markdown",
   "metadata": {},
   "source": [
    "### Submission"
   ]
  },
  {
   "cell_type": "code",
   "execution_count": 64,
   "metadata": {},
   "outputs": [
    {
     "data": {
      "text/html": [
       "<div>\n",
       "<style scoped>\n",
       "    .dataframe tbody tr th:only-of-type {\n",
       "        vertical-align: middle;\n",
       "    }\n",
       "\n",
       "    .dataframe tbody tr th {\n",
       "        vertical-align: top;\n",
       "    }\n",
       "\n",
       "    .dataframe thead th {\n",
       "        text-align: right;\n",
       "    }\n",
       "</style>\n",
       "<table border=\"1\" class=\"dataframe\">\n",
       "  <thead>\n",
       "    <tr style=\"text-align: right;\">\n",
       "      <th></th>\n",
       "      <th>id</th>\n",
       "      <th>prediction</th>\n",
       "    </tr>\n",
       "  </thead>\n",
       "  <tbody>\n",
       "    <tr>\n",
       "      <th>0</th>\n",
       "      <td>D_00044539972</td>\n",
       "      <td>0.0</td>\n",
       "    </tr>\n",
       "    <tr>\n",
       "      <th>1</th>\n",
       "      <td>D_00074041049</td>\n",
       "      <td>1.0</td>\n",
       "    </tr>\n",
       "    <tr>\n",
       "      <th>2</th>\n",
       "      <td>D_00041998439</td>\n",
       "      <td>0.0</td>\n",
       "    </tr>\n",
       "    <tr>\n",
       "      <th>3</th>\n",
       "      <td>D_00041534199</td>\n",
       "      <td>0.0</td>\n",
       "    </tr>\n",
       "    <tr>\n",
       "      <th>4</th>\n",
       "      <td>D_00046605056</td>\n",
       "      <td>0.0</td>\n",
       "    </tr>\n",
       "  </tbody>\n",
       "</table>\n",
       "</div>"
      ],
      "text/plain": [
       "              id  prediction\n",
       "0  D_00044539972         0.0\n",
       "1  D_00074041049         1.0\n",
       "2  D_00041998439         0.0\n",
       "3  D_00041534199         0.0\n",
       "4  D_00046605056         0.0"
      ]
     },
     "execution_count": 64,
     "metadata": {},
     "output_type": "execute_result"
    }
   ],
   "source": [
    "# New df\n",
    "submission = pd.DataFrame()\n",
    "\n",
    "# Import id from test_data index\n",
    "submission['id'] = test.index\n",
    "\n",
    "# import status_group predictions \n",
    "submission['prediction'] = final_predictions\n",
    "\n",
    "# Preview\n",
    "submission.head()"
   ]
  },
  {
   "cell_type": "code",
   "execution_count": 67,
   "metadata": {},
   "outputs": [],
   "source": [
    "# Write submission to csv\n",
    "submission.to_csv('submission_final.csv', sep=',')"
   ]
  }
 ],
 "metadata": {
  "kernelspec": {
   "display_name": "Python 3",
   "language": "python",
   "name": "python3"
  },
  "language_info": {
   "codemirror_mode": {
    "name": "ipython",
    "version": 3
   },
   "file_extension": ".py",
   "mimetype": "text/x-python",
   "name": "python",
   "nbconvert_exporter": "python",
   "pygments_lexer": "ipython3",
   "version": "3.6.4"
  }
 },
 "nbformat": 4,
 "nbformat_minor": 2
}
